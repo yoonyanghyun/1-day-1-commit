{
 "cells": [
  {
   "cell_type": "code",
   "execution_count": 3,
   "metadata": {},
   "outputs": [
    {
     "name": "stdout",
     "output_type": "stream",
     "text": [
      "\\    /\\ )  ( \n",
      "(  /  \n",
      " \\(__)|\n"
     ]
    }
   ],
   "source": [
    "print('\\    /\\ )  ( ')\n",
    "print('(  /  ')\n",
    "print(' \\(__)|')"
   ]
  },
  {
   "cell_type": "code",
   "execution_count": 12,
   "metadata": {},
   "outputs": [
    {
     "name": "stdout",
     "output_type": "stream",
     "text": [
      "\\    /\\\n",
      " )  ( ')\n",
      "(  /  )\n",
      " \\(__)|\n"
     ]
    }
   ],
   "source": [
    "# 백준 10171번 고양이\n",
    "print('\\\\    /\\\\')\n",
    "print(\" )  ( ')\")\n",
    "print('(  /  )')\n",
    "print(' \\(__)|')"
   ]
  },
  {
   "cell_type": "code",
   "execution_count": 22,
   "metadata": {},
   "outputs": [
    {
     "name": "stdout",
     "output_type": "stream",
     "text": [
      "|\\_/|\n",
      "|q p|   /}\n",
      "( 0 )\"\"\"\\\n",
      "|\"^\"`    |\n",
      "||_/=\\\\__|\n"
     ]
    }
   ],
   "source": [
    "# 백준 10172번 개\n",
    "print('|\\_/|')\n",
    "print('|q p|   /}')\n",
    "print('( 0 )\"\"\"\\\\')\n",
    "print('|\"^\"`    |')\n",
    "print('||_/=\\\\\\__|')"
   ]
  },
  {
   "cell_type": "code",
   "execution_count": 28,
   "metadata": {},
   "outputs": [
    {
     "name": "stdout",
     "output_type": "stream",
     "text": [
      "3\n"
     ]
    }
   ],
   "source": [
    "# 백준 1000번 A+B\n",
    "a, b = map(int, input().split())\n",
    "print(a+b)"
   ]
  },
  {
   "cell_type": "code",
   "execution_count": 31,
   "metadata": {},
   "outputs": [
    {
     "name": "stdout",
     "output_type": "stream",
     "text": [
      "1\n"
     ]
    }
   ],
   "source": [
    "# 백준 1001번 A-B\n",
    "a, b = map(int, input().split())\n",
    "print(a-b)"
   ]
  },
  {
   "cell_type": "code",
   "execution_count": 32,
   "metadata": {},
   "outputs": [
    {
     "name": "stdout",
     "output_type": "stream",
     "text": [
      "2\n"
     ]
    }
   ],
   "source": [
    "# 백준 10998번\n",
    "a, b = map(int, input().split())\n",
    "print(a*b)"
   ]
  },
  {
   "cell_type": "code",
   "execution_count": 33,
   "metadata": {},
   "outputs": [
    {
     "name": "stdout",
     "output_type": "stream",
     "text": [
      "0.3333333333333333\n"
     ]
    }
   ],
   "source": [
    "# 백준 1008번\n",
    "a, b = map(int, input().split())\n",
    "print(a/b)"
   ]
  },
  {
   "cell_type": "code",
   "execution_count": 36,
   "metadata": {},
   "outputs": [
    {
     "name": "stdout",
     "output_type": "stream",
     "text": [
      "10\n",
      "4\n",
      "21\n",
      "2\n",
      "1\n"
     ]
    }
   ],
   "source": [
    "# 백준 10869번\n",
    "a, b = map(int, input().split())\n",
    "print(a+b)\n",
    "print(a-b)\n",
    "print(a*b)\n",
    "print(a//b)\n",
    "print(a%b)"
   ]
  },
  {
   "cell_type": "code",
   "execution_count": 39,
   "metadata": {},
   "outputs": [
    {
     "name": "stdout",
     "output_type": "stream",
     "text": [
      "1\n",
      "1\n",
      "0\n",
      "0\n"
     ]
    }
   ],
   "source": [
    "# 백준 10430번\n",
    "a, b, c = map(int,input().split())\n",
    "print((a+b)%c)\n",
    "print(((a%c)+(b%c))%c)\n",
    "print((a*b)%c)\n",
    "print(((a%c)*(b%c))%c)"
   ]
  },
  {
   "cell_type": "code",
   "execution_count": 64,
   "metadata": {},
   "outputs": [
    {
     "name": "stdout",
     "output_type": "stream",
     "text": [
      "2360\n",
      "3776\n",
      "1416\n",
      "181720\n"
     ]
    }
   ],
   "source": [
    "# 백준 2588번\n",
    "a = int(input())\n",
    "b = int(input())\n",
    "\n",
    "c=[]\n",
    "for i in str(b):\n",
    "    c.append(i)\n",
    "print(a*int(c[2]))\n",
    "print(a*int(c[1]))\n",
    "print(a*int(c[0]))\n",
    "print(a*b)"
   ]
  },
  {
   "cell_type": "code",
   "execution_count": 3,
   "metadata": {},
   "outputs": [
    {
     "name": "stdout",
     "output_type": "stream",
     "text": [
      ">\n"
     ]
    }
   ],
   "source": [
    "# 1330번\n",
    "a, b = map(int,input().split())\n",
    "if a > b:\n",
    "    print('>')\n",
    "elif a < b:\n",
    "    print('<')\n",
    "else:\n",
    "    print('==')"
   ]
  },
  {
   "cell_type": "code",
   "execution_count": null,
   "metadata": {},
   "outputs": [],
   "source": [
    "# 9498번 - 시험성적\n",
    "a = int(input())\n",
    "\n",
    "if 90 <= a <= 100:\n",
    "    print('A')\n",
    "elif 80 <= a:\n",
    "    print('B')\n",
    "elif 70 <= a:\n",
    "    print('C')\n",
    "elif 60 <= a:\n",
    "    print('D')\n",
    "else:\n",
    "    print('F')"
   ]
  },
  {
   "cell_type": "code",
   "execution_count": 9,
   "metadata": {},
   "outputs": [
    {
     "name": "stdout",
     "output_type": "stream",
     "text": [
      "0\n"
     ]
    }
   ],
   "source": [
    "# 2753번 - 윤년\n",
    "\n",
    "year = int(input())\n",
    "\n",
    "if year % 4 == 0 and year % 100 != 0 or year % 400 == 0:\n",
    "    print('1')\n",
    "else:\n",
    "    print('0')"
   ]
  },
  {
   "cell_type": "code",
   "execution_count": null,
   "metadata": {},
   "outputs": [],
   "source": [
    "# 14681번 - 사분면 고르기\n",
    "\n",
    "x = int(input())\n",
    "y = int(input())\n",
    "\n",
    "if x > 0 and y > 0:\n",
    "    print(1)\n",
    "elif x < 0 and y > 0:\n",
    "    print(2)\n",
    "elif x < 0 and y < 0:\n",
    "    print(3)\n",
    "else:\n",
    "    print(4)"
   ]
  },
  {
   "cell_type": "code",
   "execution_count": 3,
   "metadata": {},
   "outputs": [
    {
     "name": "stdout",
     "output_type": "stream",
     "text": [
      "9 25\n"
     ]
    }
   ],
   "source": [
    "# 2884번 - 알람 시계\n",
    "\n",
    "h, m = map(int, input().split())\n",
    "\n",
    "if m < 45:\n",
    "    if h == 0:\n",
    "        h = 23\n",
    "        m += 60\n",
    "    else:\n",
    "        h -= 1\n",
    "        m += 60\n",
    "print(h, m-45)"
   ]
  },
  {
   "cell_type": "code",
   "execution_count": 2,
   "metadata": {},
   "outputs": [
    {
     "name": "stdout",
     "output_type": "stream",
     "text": [
      "2 * 1 = 2\n",
      "2 * 2 = 4\n",
      "2 * 3 = 6\n",
      "2 * 4 = 8\n",
      "2 * 5 = 10\n",
      "2 * 6 = 12\n",
      "2 * 7 = 14\n",
      "2 * 8 = 16\n",
      "2 * 9 = 18\n"
     ]
    }
   ],
   "source": [
    "# 2739번 - 구구단\n",
    "\n",
    "s = int(input())\n",
    "\n",
    "for i in range(1,10):\n",
    "    print(s,'*', i,'=',s*i)"
   ]
  },
  {
   "cell_type": "code",
   "execution_count": 4,
   "metadata": {},
   "outputs": [
    {
     "name": "stdout",
     "output_type": "stream",
     "text": [
      "2\n",
      "5\n",
      "7\n",
      "17\n",
      "7\n"
     ]
    }
   ],
   "source": [
    "# 10950번\n",
    "\n",
    "t = int(input())\n",
    "\n",
    "for i in range(t):\n",
    "    a, b = map(int, input().split())\n",
    "    print(a+b)\n"
   ]
  },
  {
   "cell_type": "code",
   "execution_count": 9,
   "metadata": {},
   "outputs": [
    {
     "name": "stdout",
     "output_type": "stream",
     "text": [
      "6\n"
     ]
    }
   ],
   "source": [
    "# 8393번\n",
    "\n",
    "n = int(input())\n",
    "\n",
    "m = 0\n",
    "for i in range(1,n+1):\n",
    "    m += i\n",
    "print(m)"
   ]
  },
  {
   "cell_type": "code",
   "execution_count": 10,
   "metadata": {},
   "outputs": [
    {
     "name": "stdout",
     "output_type": "stream",
     "text": [
      "2\n",
      "46\n",
      "505\n",
      "100\n",
      "2000\n"
     ]
    }
   ],
   "source": [
    "# 15552번\n",
    "import sys\n",
    "\n",
    "t = int(input())\n",
    "\n",
    "for i in range(t):\n",
    "    a, b = map(int, sys.stdin.readline().split())\n",
    "    print(a+b)"
   ]
  },
  {
   "cell_type": "code",
   "execution_count": 2,
   "metadata": {},
   "outputs": [
    {
     "name": "stdout",
     "output_type": "stream",
     "text": [
      "1\n",
      "2\n",
      "3\n",
      "4\n",
      "5\n"
     ]
    }
   ],
   "source": [
    "# 2741번\n",
    "\n",
    "n = int(input())\n",
    "\n",
    "for i in range(1,n+1):\n",
    "    print(i)"
   ]
  },
  {
   "cell_type": "code",
   "execution_count": 8,
   "metadata": {},
   "outputs": [
    {
     "name": "stdout",
     "output_type": "stream",
     "text": [
      "5\n",
      "4\n",
      "3\n",
      "2\n",
      "1\n"
     ]
    }
   ],
   "source": [
    "# 2742번\n",
    "\n",
    "n = int(input())\n",
    "\n",
    "for i in range(n):\n",
    "    print(n-i)    "
   ]
  },
  {
   "cell_type": "code",
   "execution_count": 12,
   "metadata": {},
   "outputs": [
    {
     "name": "stdout",
     "output_type": "stream",
     "text": [
      "Case #1: 2\n"
     ]
    },
    {
     "ename": "ValueError",
     "evalue": "not enough values to unpack (expected 2, got 0)",
     "output_type": "error",
     "traceback": [
      "\u001b[1;31m---------------------------------------------------------------------------\u001b[0m",
      "\u001b[1;31mValueError\u001b[0m                                Traceback (most recent call last)",
      "\u001b[1;32m<ipython-input-12-337d67d141dc>\u001b[0m in \u001b[0;36m<module>\u001b[1;34m\u001b[0m\n\u001b[0;32m      3\u001b[0m \u001b[1;33m\u001b[0m\u001b[0m\n\u001b[0;32m      4\u001b[0m \u001b[1;32mfor\u001b[0m \u001b[0mi\u001b[0m \u001b[1;32min\u001b[0m \u001b[0mrange\u001b[0m\u001b[1;33m(\u001b[0m\u001b[0mt\u001b[0m\u001b[1;33m)\u001b[0m\u001b[1;33m:\u001b[0m\u001b[1;33m\u001b[0m\u001b[1;33m\u001b[0m\u001b[0m\n\u001b[1;32m----> 5\u001b[1;33m     \u001b[0ma\u001b[0m\u001b[1;33m,\u001b[0m \u001b[0mb\u001b[0m \u001b[1;33m=\u001b[0m \u001b[0mmap\u001b[0m\u001b[1;33m(\u001b[0m\u001b[0mint\u001b[0m\u001b[1;33m,\u001b[0m \u001b[0minput\u001b[0m\u001b[1;33m(\u001b[0m\u001b[1;33m)\u001b[0m\u001b[1;33m.\u001b[0m\u001b[0msplit\u001b[0m\u001b[1;33m(\u001b[0m\u001b[1;33m)\u001b[0m\u001b[1;33m)\u001b[0m\u001b[1;33m\u001b[0m\u001b[1;33m\u001b[0m\u001b[0m\n\u001b[0m\u001b[0;32m      6\u001b[0m     \u001b[0mprint\u001b[0m\u001b[1;33m(\u001b[0m\u001b[1;34m'Case #{0}: {1}'\u001b[0m\u001b[1;33m.\u001b[0m\u001b[0mformat\u001b[0m\u001b[1;33m(\u001b[0m\u001b[0mi\u001b[0m\u001b[1;33m+\u001b[0m\u001b[1;36m1\u001b[0m\u001b[1;33m,\u001b[0m\u001b[0ma\u001b[0m\u001b[1;33m+\u001b[0m\u001b[0mb\u001b[0m\u001b[1;33m)\u001b[0m\u001b[1;33m)\u001b[0m\u001b[1;33m\u001b[0m\u001b[1;33m\u001b[0m\u001b[0m\n",
      "\u001b[1;31mValueError\u001b[0m: not enough values to unpack (expected 2, got 0)"
     ]
    }
   ],
   "source": [
    "# 11021번\n",
    "t = int(input())\n",
    "\n",
    "for i in range(t):\n",
    "    a, b = map(int, input().split())\n",
    "    print('Case #{0}: {1}'.format(i+1,a+b))"
   ]
  },
  {
   "cell_type": "code",
   "execution_count": 13,
   "metadata": {},
   "outputs": [
    {
     "name": "stdout",
     "output_type": "stream",
     "text": [
      "Case #1: 1+1 = 2\n",
      "Case #2: 2+3 = 5\n",
      "Case #3: 3+4 = 7\n",
      "Case #4: 9+8 = 17\n",
      "Case #5: 5+2 = 7\n"
     ]
    }
   ],
   "source": [
    "# 11022번\n",
    "\n",
    "t = int(input())\n",
    "\n",
    "for i in range(t):\n",
    "    a, b = map(int, input().split())\n",
    "    print('Case #{0}: {1} + {2} = {3}'.format(i+1,a,b,a+b))"
   ]
  },
  {
   "cell_type": "code",
   "execution_count": 17,
   "metadata": {},
   "outputs": [
    {
     "name": "stdout",
     "output_type": "stream",
     "text": [
      "*\n",
      "**\n",
      "***\n",
      "****\n",
      "*****\n"
     ]
    }
   ],
   "source": [
    "# 2438번\n",
    "\n",
    "n = int(input())\n",
    "\n",
    "for i in range(n):\n",
    "    i += 1\n",
    "    print('*'*i)"
   ]
  },
  {
   "cell_type": "code",
   "execution_count": 24,
   "metadata": {},
   "outputs": [
    {
     "name": "stdout",
     "output_type": "stream",
     "text": [
      "    *\n",
      "   **\n",
      "  ***\n",
      " ****\n",
      "*****\n"
     ]
    }
   ],
   "source": [
    "# 2439번\n",
    "\n",
    "n = int(input())\n",
    "\n",
    "for i in range(n):\n",
    "    i += 1\n",
    "    print(' '*(n-i) + '*'*i)"
   ]
  },
  {
   "cell_type": "code",
   "execution_count": 7,
   "metadata": {},
   "outputs": [
    {
     "name": "stdout",
     "output_type": "stream",
     "text": [
      "1 4 2 3 "
     ]
    }
   ],
   "source": [
    "# 10871번\n",
    "\n",
    "n, x = map(int, input().split())\n",
    "num = map(int, input().split())\n",
    "\n",
    "for i in num:\n",
    "    if i < x:\n",
    "        print(i, end=\" \")"
   ]
  },
  {
   "cell_type": "code",
   "execution_count": 10,
   "metadata": {},
   "outputs": [
    {
     "name": "stdout",
     "output_type": "stream",
     "text": [
      "2\n",
      "5\n",
      "7\n",
      "17\n",
      "7\n"
     ]
    }
   ],
   "source": [
    "# 10952번\n",
    "\n",
    "while True:\n",
    "    a, b = map(int, input().split())\n",
    "    if a == 0 and b == 0:\n",
    "        break\n",
    "    print(a+b)"
   ]
  },
  {
   "cell_type": "code",
   "execution_count": 13,
   "metadata": {},
   "outputs": [
    {
     "name": "stdout",
     "output_type": "stream",
     "text": [
      "2\n",
      "5\n",
      "7\n",
      "17\n",
      "7\n"
     ]
    }
   ],
   "source": [
    "# 10951번\n",
    "\n",
    "while True:\n",
    "    try:\n",
    "        a, b = map(int, input().split())\n",
    "        print(a+b)\n",
    "    except:\n",
    "        break"
   ]
  },
  {
   "cell_type": "code",
   "execution_count": 66,
   "metadata": {},
   "outputs": [
    {
     "name": "stdout",
     "output_type": "stream",
     "text": [
      "4\n"
     ]
    }
   ],
   "source": [
    "# 1110번\n",
    "\n",
    "n = int(input())\n",
    "i=0\n",
    "num=n\n",
    "\n",
    "while True:\n",
    "    a = num // 10\n",
    "    b = num % 10\n",
    "    c = (a+b) % 10\n",
    "    num = (b*10) + c\n",
    "    \n",
    "    i += 1\n",
    "    if (num == n):\n",
    "        break\n",
    "print(i)"
   ]
  },
  {
   "cell_type": "code",
   "execution_count": 83,
   "metadata": {},
   "outputs": [
    {
     "name": "stdout",
     "output_type": "stream",
     "text": [
      "35 7\n"
     ]
    }
   ],
   "source": [
    "# 10818번\n",
    "\n",
    "n = int(input())\n",
    "num = map(int, input().split())\n",
    "\n",
    "listnum = list(num)\n",
    "a = min(listnum)\n",
    "b = max(listnum)\n",
    "\n",
    "print(a,b)"
   ]
  },
  {
   "cell_type": "code",
   "execution_count": 102,
   "metadata": {},
   "outputs": [
    {
     "name": "stdout",
     "output_type": "stream",
     "text": [
      "85\n",
      "8\n"
     ]
    }
   ],
   "source": [
    "# 2562번\n",
    "\n",
    "num_list = []\n",
    "\n",
    "for i in range(9):\n",
    "    num_list.append(int(input()))\n",
    "\n",
    "a = max(num_list)\n",
    "cnt = 0\n",
    "\n",
    "for j in num_list:\n",
    "    cnt += 1\n",
    "    if j == max(num_list):\n",
    "        break\n",
    "    \n",
    "print(a)\n",
    "print(cnt)"
   ]
  },
  {
   "cell_type": "code",
   "execution_count": 12,
   "metadata": {},
   "outputs": [
    {
     "name": "stdout",
     "output_type": "stream",
     "text": [
      "3\n",
      "1\n",
      "0\n",
      "2\n",
      "0\n",
      "0\n",
      "0\n",
      "2\n",
      "0\n",
      "0\n"
     ]
    }
   ],
   "source": [
    "# 2577번 - 숫자의 개수\n",
    "\n",
    "a = int(input())\n",
    "b = int(input())\n",
    "c = int(input())\n",
    "\n",
    "multi = list(str(a*b*c))\n",
    "\n",
    "for i in range(10):\n",
    "    print(multi.count(str(i)))"
   ]
  },
  {
   "cell_type": "code",
   "execution_count": 42,
   "metadata": {},
   "outputs": [
    {
     "name": "stdout",
     "output_type": "stream",
     "text": [
      "10\n"
     ]
    }
   ],
   "source": [
    "# 3052번 - 나머지\n",
    "\n",
    "n_list =[]\n",
    "\n",
    "for i in range(10):\n",
    "    n_list.append(int(input()))\n",
    "\n",
    "result = [num % 42 for num in n_list]\n",
    "c = len(list(set(result)))\n",
    "print(c)"
   ]
  },
  {
   "cell_type": "code",
   "execution_count": 64,
   "metadata": {},
   "outputs": [
    {
     "ename": "TypeError",
     "evalue": "unsupported operand type(s) for +: 'int' and 'map'",
     "output_type": "error",
     "traceback": [
      "\u001b[1;31m---------------------------------------------------------------------------\u001b[0m",
      "\u001b[1;31mTypeError\u001b[0m                                 Traceback (most recent call last)",
      "\u001b[1;32m<ipython-input-64-705de7ffa7f5>\u001b[0m in \u001b[0;36m<module>\u001b[1;34m\u001b[0m\n\u001b[0;32m      8\u001b[0m     \u001b[0mscore_list\u001b[0m\u001b[1;33m.\u001b[0m\u001b[0mappend\u001b[0m\u001b[1;33m(\u001b[0m\u001b[0mmap\u001b[0m\u001b[1;33m(\u001b[0m\u001b[0mint\u001b[0m\u001b[1;33m,\u001b[0m \u001b[0minput\u001b[0m\u001b[1;33m(\u001b[0m\u001b[1;33m)\u001b[0m\u001b[1;33m.\u001b[0m\u001b[0msplit\u001b[0m\u001b[1;33m(\u001b[0m\u001b[1;33m)\u001b[0m\u001b[1;33m)\u001b[0m\u001b[1;33m)\u001b[0m\u001b[1;33m\u001b[0m\u001b[1;33m\u001b[0m\u001b[0m\n\u001b[0;32m      9\u001b[0m \u001b[1;33m\u001b[0m\u001b[0m\n\u001b[1;32m---> 10\u001b[1;33m \u001b[0mavg\u001b[0m \u001b[1;33m=\u001b[0m \u001b[0msum\u001b[0m\u001b[1;33m(\u001b[0m\u001b[0mscore_list\u001b[0m\u001b[1;33m)\u001b[0m \u001b[1;33m/\u001b[0m \u001b[0mlen\u001b[0m\u001b[1;33m(\u001b[0m\u001b[0mscore_list\u001b[0m\u001b[1;33m)\u001b[0m\u001b[1;33m\u001b[0m\u001b[1;33m\u001b[0m\u001b[0m\n\u001b[0m\u001b[0;32m     11\u001b[0m \u001b[0mnew_score\u001b[0m \u001b[1;33m=\u001b[0m \u001b[0mavg\u001b[0m \u001b[1;33m/\u001b[0m \u001b[0mmax\u001b[0m\u001b[1;33m(\u001b[0m\u001b[0mscore_list\u001b[0m\u001b[1;33m)\u001b[0m \u001b[1;33m*\u001b[0m \u001b[1;36m100\u001b[0m\u001b[1;33m\u001b[0m\u001b[1;33m\u001b[0m\u001b[0m\n\u001b[0;32m     12\u001b[0m \u001b[1;33m\u001b[0m\u001b[0m\n",
      "\u001b[1;31mTypeError\u001b[0m: unsupported operand type(s) for +: 'int' and 'map'"
     ]
    }
   ],
   "source": [
    "# 1546번 - 평균\n",
    "\n",
    "n = int(input())\n",
    "num = map(int, input().split())\n",
    "\n",
    "num_list = list(num)\n",
    "avg = sum(num_list) / n\n",
    "new_score = avg / max(num_list) * 100\n",
    "\n",
    "print(new_score)"
   ]
  },
  {
   "cell_type": "code",
   "execution_count": 84,
   "metadata": {},
   "outputs": [
    {
     "name": "stdout",
     "output_type": "stream",
     "text": [
      "9\n"
     ]
    }
   ],
   "source": [
    "# 8958번 - OX퀴즈\n",
    "\n",
    "n = int(input())\n",
    "\n",
    "for i in range(n):\n",
    "    score = 0\n",
    "    test = input()\n",
    "    temp = 1 \n",
    "    for i in range(len(test)):\n",
    "        if test[i] == 'O':\n",
    "            score += temp\n",
    "            temp += 1\n",
    "        else:\n",
    "            temp = 1\n",
    "    print(score)"
   ]
  },
  {
   "cell_type": "code",
   "execution_count": 102,
   "metadata": {},
   "outputs": [
    {
     "name": "stdout",
     "output_type": "stream",
     "text": [
      "40.000%\n",
      "57.143%\n",
      "33.333%\n",
      "66.667%\n",
      "55.556%\n"
     ]
    }
   ],
   "source": [
    "# 4344번 - 평균은 넘겠지\n",
    "\n",
    "n = int(input())\n",
    "\n",
    "for i in range(n):\n",
    "    num = list(map(int, input().split()))\n",
    "    c = num[0]\n",
    "    score = num[1:]\n",
    "    avg = sum(score) / c\n",
    "    over_avg = 0\n",
    "    for i in score:\n",
    "        if i > avg:\n",
    "            over_avg += 1\n",
    "    ratio = over_avg / c * 100\n",
    "    print('{:.3f}%'.format(ratio))"
   ]
  },
  {
   "cell_type": "code",
   "execution_count": 103,
   "metadata": {},
   "outputs": [],
   "source": [
    "# 15595번 - 정수 n개의 합\n",
    "\n",
    "def solve(a):\n",
    "    ans = sum(a)\n",
    "    return ans"
   ]
  },
  {
   "cell_type": "code",
   "execution_count": 61,
   "metadata": {},
   "outputs": [
    {
     "name": "stdout",
     "output_type": "stream",
     "text": [
      "1\n",
      "3\n",
      "5\n",
      "7\n",
      "9\n",
      "20\n",
      "31\n",
      "42\n",
      "53\n",
      "64\n",
      "75\n",
      "86\n",
      "97\n",
      "108\n",
      "110\n",
      "121\n",
      "132\n",
      "143\n",
      "154\n",
      "165\n",
      "176\n",
      "187\n",
      "198\n",
      "209\n",
      "211\n",
      "222\n",
      "233\n",
      "244\n",
      "255\n",
      "266\n",
      "277\n",
      "288\n",
      "299\n",
      "310\n",
      "312\n",
      "323\n",
      "334\n",
      "345\n",
      "356\n",
      "367\n",
      "378\n",
      "389\n",
      "400\n",
      "411\n",
      "413\n",
      "424\n",
      "435\n",
      "446\n",
      "457\n",
      "468\n",
      "479\n",
      "490\n",
      "501\n",
      "512\n",
      "514\n",
      "525\n",
      "536\n",
      "547\n",
      "558\n",
      "569\n",
      "580\n",
      "591\n",
      "602\n",
      "613\n",
      "615\n",
      "626\n",
      "637\n",
      "648\n",
      "659\n",
      "670\n",
      "681\n",
      "692\n",
      "703\n",
      "714\n",
      "716\n",
      "727\n",
      "738\n",
      "749\n",
      "760\n",
      "771\n",
      "782\n",
      "793\n",
      "804\n",
      "815\n",
      "817\n",
      "828\n",
      "839\n",
      "850\n",
      "861\n",
      "872\n",
      "883\n",
      "894\n",
      "905\n",
      "916\n",
      "918\n",
      "929\n",
      "940\n",
      "951\n",
      "962\n",
      "973\n",
      "984\n",
      "995\n",
      "1006\n",
      "1021\n",
      "1032\n",
      "1043\n",
      "1054\n",
      "1065\n",
      "1076\n",
      "1087\n",
      "1098\n",
      "1109\n",
      "1111\n",
      "1122\n",
      "1133\n",
      "1144\n",
      "1155\n",
      "1166\n",
      "1177\n",
      "1188\n",
      "1199\n",
      "1210\n",
      "1212\n",
      "1223\n",
      "1234\n",
      "1245\n",
      "1256\n",
      "1267\n",
      "1278\n",
      "1289\n",
      "1300\n",
      "1311\n",
      "1313\n",
      "1324\n",
      "1335\n",
      "1346\n",
      "1357\n",
      "1368\n",
      "1379\n",
      "1390\n",
      "1401\n",
      "1412\n",
      "1414\n",
      "1425\n",
      "1436\n",
      "1447\n",
      "1458\n",
      "1469\n",
      "1480\n",
      "1491\n",
      "1502\n",
      "1513\n",
      "1515\n",
      "1526\n",
      "1537\n",
      "1548\n",
      "1559\n",
      "1570\n",
      "1581\n",
      "1592\n",
      "1603\n",
      "1614\n",
      "1616\n",
      "1627\n",
      "1638\n",
      "1649\n",
      "1660\n",
      "1671\n",
      "1682\n",
      "1693\n",
      "1704\n",
      "1715\n",
      "1717\n",
      "1728\n",
      "1739\n",
      "1750\n",
      "1761\n",
      "1772\n",
      "1783\n",
      "1794\n",
      "1805\n",
      "1816\n",
      "1818\n",
      "1829\n",
      "1840\n",
      "1851\n",
      "1862\n",
      "1873\n",
      "1884\n",
      "1895\n",
      "1906\n",
      "1917\n",
      "1919\n",
      "1930\n",
      "1941\n",
      "1952\n",
      "1963\n",
      "1974\n",
      "1985\n",
      "1996\n",
      "2007\n",
      "2022\n",
      "2033\n",
      "2044\n",
      "2055\n",
      "2066\n",
      "2077\n",
      "2088\n",
      "2099\n",
      "2110\n",
      "2112\n",
      "2123\n",
      "2134\n",
      "2145\n",
      "2156\n",
      "2167\n",
      "2178\n",
      "2189\n",
      "2200\n",
      "2211\n",
      "2213\n",
      "2224\n",
      "2235\n",
      "2246\n",
      "2257\n",
      "2268\n",
      "2279\n",
      "2290\n",
      "2301\n",
      "2312\n",
      "2314\n",
      "2325\n",
      "2336\n",
      "2347\n",
      "2358\n",
      "2369\n",
      "2380\n",
      "2391\n",
      "2402\n",
      "2413\n",
      "2415\n",
      "2426\n",
      "2437\n",
      "2448\n",
      "2459\n",
      "2470\n",
      "2481\n",
      "2492\n",
      "2503\n",
      "2514\n",
      "2516\n",
      "2527\n",
      "2538\n",
      "2549\n",
      "2560\n",
      "2571\n",
      "2582\n",
      "2593\n",
      "2604\n",
      "2615\n",
      "2617\n",
      "2628\n",
      "2639\n",
      "2650\n",
      "2661\n",
      "2672\n",
      "2683\n",
      "2694\n",
      "2705\n",
      "2716\n",
      "2718\n",
      "2729\n",
      "2740\n",
      "2751\n",
      "2762\n",
      "2773\n",
      "2784\n",
      "2795\n",
      "2806\n",
      "2817\n",
      "2819\n",
      "2830\n",
      "2841\n",
      "2852\n",
      "2863\n",
      "2874\n",
      "2885\n",
      "2896\n",
      "2907\n",
      "2918\n",
      "2920\n",
      "2931\n",
      "2942\n",
      "2953\n",
      "2964\n",
      "2975\n",
      "2986\n",
      "2997\n",
      "3008\n",
      "3023\n",
      "3034\n",
      "3045\n",
      "3056\n",
      "3067\n",
      "3078\n",
      "3089\n",
      "3100\n",
      "3111\n",
      "3113\n",
      "3124\n",
      "3135\n",
      "3146\n",
      "3157\n",
      "3168\n",
      "3179\n",
      "3190\n",
      "3201\n",
      "3212\n",
      "3214\n",
      "3225\n",
      "3236\n",
      "3247\n",
      "3258\n",
      "3269\n",
      "3280\n",
      "3291\n",
      "3302\n",
      "3313\n",
      "3315\n",
      "3326\n",
      "3337\n",
      "3348\n",
      "3359\n",
      "3370\n",
      "3381\n",
      "3392\n",
      "3403\n",
      "3414\n",
      "3416\n",
      "3427\n",
      "3438\n",
      "3449\n",
      "3460\n",
      "3471\n",
      "3482\n",
      "3493\n",
      "3504\n",
      "3515\n",
      "3517\n",
      "3528\n",
      "3539\n",
      "3550\n",
      "3561\n",
      "3572\n",
      "3583\n",
      "3594\n",
      "3605\n",
      "3616\n",
      "3618\n",
      "3629\n",
      "3640\n",
      "3651\n",
      "3662\n",
      "3673\n",
      "3684\n",
      "3695\n",
      "3706\n",
      "3717\n",
      "3719\n",
      "3730\n",
      "3741\n",
      "3752\n",
      "3763\n",
      "3774\n",
      "3785\n",
      "3796\n",
      "3807\n",
      "3818\n",
      "3820\n",
      "3831\n",
      "3842\n",
      "3853\n",
      "3864\n",
      "3875\n",
      "3886\n",
      "3897\n",
      "3908\n",
      "3919\n",
      "3921\n",
      "3932\n",
      "3943\n",
      "3954\n",
      "3965\n",
      "3976\n",
      "3987\n",
      "3998\n",
      "4009\n",
      "4024\n",
      "4035\n",
      "4046\n",
      "4057\n",
      "4068\n",
      "4079\n",
      "4090\n",
      "4101\n",
      "4112\n",
      "4114\n",
      "4125\n",
      "4136\n",
      "4147\n",
      "4158\n",
      "4169\n",
      "4180\n",
      "4191\n",
      "4202\n",
      "4213\n",
      "4215\n",
      "4226\n",
      "4237\n",
      "4248\n",
      "4259\n",
      "4270\n",
      "4281\n",
      "4292\n",
      "4303\n",
      "4314\n",
      "4316\n",
      "4327\n",
      "4338\n",
      "4349\n",
      "4360\n",
      "4371\n",
      "4382\n",
      "4393\n",
      "4404\n",
      "4415\n",
      "4417\n",
      "4428\n",
      "4439\n",
      "4450\n",
      "4461\n",
      "4472\n",
      "4483\n",
      "4494\n",
      "4505\n",
      "4516\n",
      "4518\n",
      "4529\n",
      "4540\n",
      "4551\n",
      "4562\n",
      "4573\n",
      "4584\n",
      "4595\n",
      "4606\n",
      "4617\n",
      "4619\n",
      "4630\n",
      "4641\n",
      "4652\n",
      "4663\n",
      "4674\n",
      "4685\n",
      "4696\n",
      "4707\n",
      "4718\n",
      "4720\n",
      "4731\n",
      "4742\n",
      "4753\n",
      "4764\n",
      "4775\n",
      "4786\n",
      "4797\n",
      "4808\n",
      "4819\n",
      "4821\n",
      "4832\n",
      "4843\n",
      "4854\n",
      "4865\n",
      "4876\n",
      "4887\n",
      "4898\n",
      "4909\n",
      "4920\n",
      "4922\n",
      "4933\n",
      "4944\n",
      "4955\n",
      "4966\n",
      "4977\n",
      "4988\n",
      "4999\n",
      "5010\n",
      "5025\n",
      "5036\n",
      "5047\n",
      "5058\n",
      "5069\n",
      "5080\n",
      "5091\n",
      "5102\n",
      "5113\n",
      "5115\n",
      "5126\n",
      "5137\n",
      "5148\n",
      "5159\n",
      "5170\n",
      "5181\n",
      "5192\n",
      "5203\n",
      "5214\n",
      "5216\n",
      "5227\n",
      "5238\n",
      "5249\n",
      "5260\n",
      "5271\n",
      "5282\n",
      "5293\n",
      "5304\n",
      "5315\n",
      "5317\n",
      "5328\n",
      "5339\n",
      "5350\n",
      "5361\n",
      "5372\n",
      "5383\n",
      "5394\n",
      "5405\n",
      "5416\n",
      "5418\n",
      "5429\n",
      "5440\n",
      "5451\n",
      "5462\n",
      "5473\n",
      "5484\n",
      "5495\n",
      "5506\n",
      "5517\n",
      "5519\n",
      "5530\n",
      "5541\n",
      "5552\n",
      "5563\n",
      "5574\n",
      "5585\n",
      "5596\n",
      "5607\n",
      "5618\n",
      "5620\n",
      "5631\n",
      "5642\n",
      "5653\n",
      "5664\n",
      "5675\n",
      "5686\n",
      "5697\n",
      "5708\n",
      "5719\n",
      "5721\n",
      "5732\n",
      "5743\n",
      "5754\n",
      "5765\n",
      "5776\n",
      "5787\n",
      "5798\n",
      "5809\n",
      "5820\n",
      "5822\n",
      "5833\n",
      "5844\n",
      "5855\n",
      "5866\n",
      "5877\n",
      "5888\n",
      "5899\n",
      "5910\n",
      "5921\n",
      "5923\n",
      "5934\n",
      "5945\n",
      "5956\n",
      "5967\n",
      "5978\n",
      "5989\n",
      "6000\n",
      "6011\n",
      "6026\n",
      "6037\n",
      "6048\n",
      "6059\n",
      "6070\n",
      "6081\n",
      "6092\n",
      "6103\n",
      "6114\n",
      "6116\n",
      "6127\n",
      "6138\n",
      "6149\n",
      "6160\n",
      "6171\n",
      "6182\n",
      "6193\n",
      "6204\n",
      "6215\n",
      "6217\n",
      "6228\n",
      "6239\n",
      "6250\n",
      "6261\n",
      "6272\n",
      "6283\n",
      "6294\n",
      "6305\n",
      "6316\n",
      "6318\n",
      "6329\n",
      "6340\n",
      "6351\n",
      "6362\n",
      "6373\n",
      "6384\n",
      "6395\n",
      "6406\n",
      "6417\n",
      "6419\n",
      "6430\n",
      "6441\n",
      "6452\n",
      "6463\n",
      "6474\n",
      "6485\n",
      "6496\n",
      "6507\n",
      "6518\n",
      "6520\n",
      "6531\n",
      "6542\n",
      "6553\n",
      "6564\n",
      "6575\n",
      "6586\n",
      "6597\n",
      "6608\n",
      "6619\n",
      "6621\n",
      "6632\n",
      "6643\n",
      "6654\n",
      "6665\n",
      "6676\n",
      "6687\n",
      "6698\n",
      "6709\n",
      "6720\n",
      "6722\n",
      "6733\n",
      "6744\n",
      "6755\n",
      "6766\n",
      "6777\n",
      "6788\n",
      "6799\n",
      "6810\n",
      "6821\n",
      "6823\n",
      "6834\n",
      "6845\n",
      "6856\n",
      "6867\n",
      "6878\n",
      "6889\n",
      "6900\n",
      "6911\n",
      "6922\n",
      "6924\n",
      "6935\n",
      "6946\n",
      "6957\n",
      "6968\n",
      "6979\n",
      "6990\n",
      "7001\n",
      "7012\n",
      "7027\n",
      "7038\n",
      "7049\n",
      "7060\n",
      "7071\n",
      "7082\n",
      "7093\n",
      "7104\n",
      "7115\n",
      "7117\n",
      "7128\n",
      "7139\n",
      "7150\n",
      "7161\n",
      "7172\n",
      "7183\n",
      "7194\n",
      "7205\n",
      "7216\n",
      "7218\n",
      "7229\n",
      "7240\n",
      "7251\n",
      "7262\n",
      "7273\n",
      "7284\n",
      "7295\n",
      "7306\n",
      "7317\n",
      "7319\n",
      "7330\n",
      "7341\n",
      "7352\n",
      "7363\n",
      "7374\n",
      "7385\n",
      "7396\n",
      "7407\n",
      "7418\n",
      "7420\n",
      "7431\n",
      "7442\n",
      "7453\n",
      "7464\n",
      "7475\n",
      "7486\n",
      "7497\n",
      "7508\n",
      "7519\n",
      "7521\n",
      "7532\n",
      "7543\n",
      "7554\n",
      "7565\n",
      "7576\n",
      "7587\n",
      "7598\n",
      "7609\n",
      "7620\n",
      "7622\n",
      "7633\n",
      "7644\n",
      "7655\n",
      "7666\n",
      "7677\n",
      "7688\n",
      "7699\n",
      "7710\n",
      "7721\n",
      "7723\n",
      "7734\n",
      "7745\n",
      "7756\n",
      "7767\n",
      "7778\n",
      "7789\n",
      "7800\n",
      "7811\n",
      "7822\n",
      "7824\n",
      "7835\n",
      "7846\n",
      "7857\n",
      "7868\n",
      "7879\n",
      "7890\n",
      "7901\n",
      "7912\n",
      "7923\n",
      "7925\n",
      "7936\n",
      "7947\n",
      "7958\n",
      "7969\n",
      "7980\n",
      "7991\n",
      "8002\n",
      "8013\n",
      "8028\n",
      "8039\n",
      "8050\n",
      "8061\n",
      "8072\n",
      "8083\n",
      "8094\n",
      "8105\n",
      "8116\n",
      "8118\n",
      "8129\n",
      "8140\n",
      "8151\n",
      "8162\n",
      "8173\n",
      "8184\n",
      "8195\n",
      "8206\n",
      "8217\n",
      "8219\n",
      "8230\n",
      "8241\n",
      "8252\n",
      "8263\n",
      "8274\n",
      "8285\n",
      "8296\n",
      "8307\n",
      "8318\n",
      "8320\n",
      "8331\n",
      "8342\n",
      "8353\n",
      "8364\n",
      "8375\n",
      "8386\n",
      "8397\n",
      "8408\n",
      "8419\n",
      "8421\n",
      "8432\n",
      "8443\n",
      "8454\n",
      "8465\n",
      "8476\n",
      "8487\n",
      "8498\n",
      "8509\n",
      "8520\n",
      "8522\n",
      "8533\n",
      "8544\n",
      "8555\n",
      "8566\n",
      "8577\n",
      "8588\n",
      "8599\n",
      "8610\n",
      "8621\n",
      "8623\n",
      "8634\n",
      "8645\n",
      "8656\n",
      "8667\n",
      "8678\n",
      "8689\n",
      "8700\n",
      "8711\n",
      "8722\n",
      "8724\n",
      "8735\n",
      "8746\n",
      "8757\n",
      "8768\n",
      "8779\n",
      "8790\n",
      "8801\n",
      "8812\n",
      "8823\n",
      "8825\n",
      "8836\n",
      "8847\n",
      "8858\n",
      "8869\n",
      "8880\n",
      "8891\n",
      "8902\n",
      "8913\n",
      "8924\n",
      "8926\n",
      "8937\n",
      "8948\n",
      "8959\n",
      "8970\n",
      "8981\n",
      "8992\n",
      "9003\n",
      "9014\n",
      "9029\n",
      "9040\n",
      "9051\n",
      "9062\n",
      "9073\n",
      "9084\n",
      "9095\n",
      "9106\n",
      "9117\n",
      "9119\n",
      "9130\n",
      "9141\n",
      "9152\n",
      "9163\n",
      "9174\n",
      "9185\n",
      "9196\n",
      "9207\n",
      "9218\n",
      "9220\n",
      "9231\n",
      "9242\n",
      "9253\n",
      "9264\n",
      "9275\n",
      "9286\n",
      "9297\n",
      "9308\n",
      "9319\n",
      "9321\n",
      "9332\n",
      "9343\n",
      "9354\n",
      "9365\n",
      "9376\n",
      "9387\n",
      "9398\n",
      "9409\n",
      "9420\n",
      "9422\n",
      "9433\n",
      "9444\n",
      "9455\n",
      "9466\n",
      "9477\n",
      "9488\n",
      "9499\n",
      "9510\n",
      "9521\n",
      "9523\n",
      "9534\n",
      "9545\n",
      "9556\n",
      "9567\n",
      "9578\n",
      "9589\n",
      "9600\n",
      "9611\n",
      "9622\n",
      "9624\n",
      "9635\n",
      "9646\n",
      "9657\n",
      "9668\n",
      "9679\n",
      "9690\n",
      "9701\n",
      "9712\n",
      "9723\n",
      "9725\n",
      "9736\n",
      "9747\n",
      "9758\n",
      "9769\n",
      "9780\n",
      "9791\n",
      "9802\n",
      "9813\n",
      "9824\n",
      "9826\n",
      "9837\n",
      "9848\n",
      "9859\n",
      "9870\n",
      "9881\n",
      "9892\n",
      "9903\n",
      "9914\n",
      "9925\n",
      "9927\n",
      "9938\n",
      "9949\n",
      "9960\n",
      "9971\n",
      "9982\n",
      "9993\n"
     ]
    }
   ],
   "source": [
    "# 4673번 - 셀프 넘버\n",
    "\n",
    "# n_list =[]\n",
    "# self_num_list = []\n",
    "\n",
    "# for i in range(1, 10000):\n",
    "#     n_list.append(i)\n",
    "#     n=i\n",
    "#     dn = list(str(n))\n",
    "#     dn_int = list(map(int,dn))\n",
    "#     self_num = sum(dn_int)+n\n",
    "    \n",
    "#     self_num_list.append(self_num)\n",
    "#     self_num_list.sort()\n",
    "    \n",
    "#     result = set(n_list) - set(self_num_list)\n",
    "#     result = list(map(int,result))\n",
    "#     result.sort()\n",
    "\n",
    "# for i in result:\n",
    "#     print(i)\n",
    "\n",
    "n_set = set(range(1,10000))\n",
    "self_num_set = set()\n",
    "\n",
    "for i in range(1,10000):\n",
    "    for j in str(i):\n",
    "        i += int(j)\n",
    "    self_num_set.add(i)\n",
    "\n",
    "result = sorted(n_set - self_num_set)\n",
    "\n",
    "for i in result:\n",
    "    print(i)"
   ]
  },
  {
   "cell_type": "code",
   "execution_count": 28,
   "metadata": {},
   "outputs": [
    {
     "name": "stdout",
     "output_type": "stream",
     "text": [
      "144\n"
     ]
    }
   ],
   "source": [
    "# 1065번 - 한수\n",
    "\n",
    "n = int(input())\n",
    "\n",
    "hansu = 0\n",
    "\n",
    "for i in range(1,n+1):\n",
    "    n_list = list(map(int, str(i)))\n",
    "    if i < 100:\n",
    "        hansu += 1\n",
    "    elif n_list[0]-n_list[1] == n_list[1]-n_list[2]:\n",
    "        hansu += 1\n",
    "print(hansu)   \n"
   ]
  },
  {
   "cell_type": "code",
   "execution_count": 39,
   "metadata": {},
   "outputs": [
    {
     "name": "stdout",
     "output_type": "stream",
     "text": [
      "48\n"
     ]
    }
   ],
   "source": [
    "# 11654번 - 아스키코드\n",
    "\n",
    "ipt = input()\n",
    "print(ord(ipt))"
   ]
  },
  {
   "cell_type": "code",
   "execution_count": 47,
   "metadata": {},
   "outputs": [
    {
     "name": "stdout",
     "output_type": "stream",
     "text": [
      "15\n"
     ]
    }
   ],
   "source": [
    "# 11720번 - 숫자의 합\n",
    "\n",
    "n = int(input())\n",
    "num = list(map(int,input()))\n",
    "\n",
    "print(sum(num))"
   ]
  },
  {
   "cell_type": "code",
   "execution_count": 106,
   "metadata": {},
   "outputs": [
    {
     "name": "stdout",
     "output_type": "stream",
     "text": [
      "1 0 -1 -1 2 -1 -1 -1 -1 4 3 -1 -1 7 5 -1 -1 -1 -1 -1 -1 -1 -1 -1 -1 -1 "
     ]
    }
   ],
   "source": [
    "# 10809번 - 알파벳 찾기\n",
    "import string\n",
    "\n",
    "s = input()\n",
    "alphabet = [i for i in string.ascii_lowercase]\n",
    "\n",
    "for i in alphabet:\n",
    "    if i in s:\n",
    "        print(s.index(i), end= ' ')\n",
    "    else:\n",
    "        print(-1, end= ' ')\n"
   ]
  },
  {
   "cell_type": "code",
   "execution_count": 34,
   "metadata": {},
   "outputs": [
    {
     "name": "stdout",
     "output_type": "stream",
     "text": [
      "AAABBBCCC\n",
      "/////HHHHHTTTTTPPPPP\n"
     ]
    }
   ],
   "source": [
    "# 2675번 - 문자열 반복\n",
    "\n",
    "t = int(input())\n",
    "\n",
    "for i in range(t):\n",
    "    n, s = input().split()\n",
    "    n = int(n)\n",
    "    s = str(s)\n",
    "    for j in range(len(s)):\n",
    "        print(n*s[j], end='')\n",
    "    print()"
   ]
  },
  {
   "cell_type": "code",
   "execution_count": 54,
   "metadata": {},
   "outputs": [
    {
     "name": "stdout",
     "output_type": "stream",
     "text": [
      "?\n"
     ]
    }
   ],
   "source": [
    "# 1157번 - 단어 공부\n",
    "import string\n",
    "\n",
    "s = input().lower()\n",
    "\n",
    "alphabet = [i for i in string.ascii_lowercase]\n",
    "a = []\n",
    "\n",
    "for i in alphabet:\n",
    "    a.append(s.count(i))\n",
    "    \n",
    "m = []\n",
    "m = [i for i,v in enumerate(a) if v == max(a)]\n",
    "\n",
    "if len(m) >=2:\n",
    "    print('?')\n",
    "else:\n",
    "    print(alphabet[a.index(max(a))].upper())"
   ]
  },
  {
   "cell_type": "code",
   "execution_count": 65,
   "metadata": {},
   "outputs": [
    {
     "name": "stdout",
     "output_type": "stream",
     "text": [
      "6\n"
     ]
    }
   ],
   "source": [
    "# 1152번 - 단어의 개수\n",
    "s = input()\n",
    "\n",
    "cnt_list = list(s.split())\n",
    "print(len(cnt_list))"
   ]
  },
  {
   "cell_type": "code",
   "execution_count": 78,
   "metadata": {},
   "outputs": [
    {
     "name": "stdout",
     "output_type": "stream",
     "text": [
      "938\n"
     ]
    }
   ],
   "source": [
    "# 2908번 - 상수\n",
    "\n",
    "a, b = map(int, input().split())\n",
    "\n",
    "san_a = int(str(a)[2] + str(a)[1] + str(a)[0])\n",
    "san_b = int(str(b)[2] + str(b)[1] + str(b)[0])\n",
    "\n",
    "if san_a > san_b:\n",
    "    print(san_a)\n",
    "else:\n",
    "    print(san_b) "
   ]
  },
  {
   "cell_type": "code",
   "execution_count": 19,
   "metadata": {},
   "outputs": [
    {
     "name": "stdout",
     "output_type": "stream",
     "text": [
      "13\n"
     ]
    }
   ],
   "source": [
    "# 5622번 - 다이얼\n",
    "\n",
    "dial = ['ABC','DEF','GHI','JKL','MNO','PQRS','TUV','WXYZ']\n",
    "s = input()\n",
    "suma = 0\n",
    "for i in range(len(s)):\n",
    "    for j in dial:\n",
    "        if s[i] in j:\n",
    "            suma += dial.index(j) + 3\n",
    "print(suma)"
   ]
  },
  {
   "cell_type": "code",
   "execution_count": 31,
   "metadata": {},
   "outputs": [
    {
     "name": "stdout",
     "output_type": "stream",
     "text": [
      "0\n"
     ]
    }
   ],
   "source": [
    "# 2941번 - 크로아티아 알파벳\n",
    "\n",
    "s = input()\n",
    "cro_alpha = ['c=','c-', 'dz=', 'd-','lj' ,'nj' ,'s=','z=']\n",
    "\n",
    "for i in cro_alpha:\n",
    "    s = s.replace(i,'*')\n",
    "print(len(s))"
   ]
  },
  {
   "cell_type": "code",
   "execution_count": null,
   "metadata": {},
   "outputs": [],
   "source": [
    "# 1316번 - 그룹단어 체커\n",
    "\n",
    "n = int(input())\n",
    "\n",
    "cnt = n\n",
    "for i in range(n):\n",
    "    word = input()\n",
    "    for j in range(len(word)-1):\n",
    "        if word[j] == word[j+1]:\n",
    "            pass\n",
    "        elif word[j] in word[j+1:]:\n",
    "            cnt -= 1\n",
    "            break\n",
    "print(cnt)"
   ]
  },
  {
   "cell_type": "code",
   "execution_count": 13,
   "metadata": {},
   "outputs": [
    {
     "name": "stdout",
     "output_type": "stream",
     "text": [
      "2100000001\n"
     ]
    }
   ],
   "source": [
    "# 21-09-28\n",
    "# 1712번 - 손익분기점\n",
    "\n",
    "a, b, c = map(int, input().split())\n",
    "\n",
    "if b >= c:\n",
    "    print(-1)\n",
    "else:\n",
    "    print(a//(c-b) +1)\n",
    "    "
   ]
  },
  {
   "cell_type": "code",
   "execution_count": 39,
   "metadata": {},
   "outputs": [
    {
     "name": "stdout",
     "output_type": "stream",
     "text": [
      "3\n"
     ]
    }
   ],
   "source": [
    "# 21-09-29\n",
    "# 2292번 - 벌집\n",
    "\n",
    "n = int(input())\n",
    "\n",
    "room = 1\n",
    "i = 1\n",
    "while n > room:\n",
    "    room += 6*i\n",
    "    i += 1\n",
    "print(i)"
   ]
  },
  {
   "cell_type": "code",
   "execution_count": 5,
   "metadata": {},
   "outputs": [
    {
     "name": "stdout",
     "output_type": "stream",
     "text": [
      "2/1\n"
     ]
    }
   ],
   "source": [
    "# 21-10-05\n",
    "# 1193번 - 분수찾기\n",
    "\n",
    "x = int(input())\n",
    "\n",
    "line = 1\n",
    "while x > line:\n",
    "    x -= line\n",
    "    line += 1\n",
    "\n",
    "if line % 2 == 0: # 짝수인경우\n",
    "    a = x\n",
    "    b = line - x + 1\n",
    "else: # 홀수인경우\n",
    "    a = line -x + 1\n",
    "    b = x\n",
    "\n",
    "print(a,'/',b, sep='')    "
   ]
  },
  {
   "cell_type": "code",
   "execution_count": 47,
   "metadata": {},
   "outputs": [
    {
     "name": "stdout",
     "output_type": "stream",
     "text": [
      "4\n"
     ]
    }
   ],
   "source": [
    "# 21=10-06\n",
    "# 2869번 - 달팽이는 올라가고 싶다\n",
    "import math\n",
    "\n",
    "a, b, v = map(int,input().split())\n",
    "\n",
    "day = (v-b) / (a-b)\n",
    "print(math.ceil(day))"
   ]
  },
  {
   "cell_type": "code",
   "execution_count": 53,
   "metadata": {},
   "outputs": [
    {
     "name": "stdout",
     "output_type": "stream",
     "text": [
      "402\n",
      "1203\n"
     ]
    }
   ],
   "source": [
    "# 21-10-07\n",
    "# 10250번 - ACM 호텔\n",
    "\n",
    "t = int(input())\n",
    "\n",
    "\n",
    "for a in range(t):\n",
    "    h, w, n = map(int,input().split())\n",
    "    cnt = 0\n",
    "    for i in range(1,w+1):\n",
    "        for j in range(1,h+1):\n",
    "            cnt += 1\n",
    "            if cnt == n:\n",
    "                print('%d%02d' %(j,i))"
   ]
  },
  {
   "cell_type": "code",
   "execution_count": 32,
   "metadata": {},
   "outputs": [
    {
     "name": "stdout",
     "output_type": "stream",
     "text": [
      "6\n",
      "10\n"
     ]
    }
   ],
   "source": [
    "# 21-10-08\n",
    "# 2775번 - 부녀회장이 될테야\n",
    "\n",
    "t = int(input())\n",
    "\n",
    "for a in range(t):\n",
    "    k=int(input())\n",
    "    n=int(input())\n",
    "    people = [p for p in range(1,n+1)]\n",
    "\n",
    "    for i in range(k):\n",
    "        for j in range(1,n):\n",
    "            people[j] += people[j-1]\n",
    "    print(people[n-1])"
   ]
  },
  {
   "cell_type": "code",
   "execution_count": 39,
   "metadata": {},
   "outputs": [
    {
     "name": "stdout",
     "output_type": "stream",
     "text": [
      "4\n"
     ]
    }
   ],
   "source": [
    "# 21-10-11\n",
    "# 2839번 - 설탕 배달\n",
    "\n",
    "n = int(input())\n",
    "\n",
    "cnt = 0\n",
    "while n >=0:\n",
    "    if n % 5 == 0:\n",
    "        cnt += n // 5\n",
    "        print(cnt)\n",
    "        break\n",
    "    n -= 3\n",
    "    cnt += 1\n",
    "    if n < 0:\n",
    "        print(-1)\n",
    "        break\n",
    "        "
   ]
  },
  {
   "cell_type": "code",
   "execution_count": null,
   "metadata": {},
   "outputs": [],
   "source": []
  }
 ],
 "metadata": {
  "interpreter": {
   "hash": "97ae724bfa85b9b34df7982b8bb8c7216f435b92902d749e4263f71162bea840"
  },
  "kernelspec": {
   "display_name": "Python 3.8.8 64-bit ('base': conda)",
   "name": "python3"
  },
  "language_info": {
   "codemirror_mode": {
    "name": "ipython",
    "version": 3
   },
   "file_extension": ".py",
   "mimetype": "text/x-python",
   "name": "python",
   "nbconvert_exporter": "python",
   "pygments_lexer": "ipython3",
   "version": "3.8.8"
  },
  "orig_nbformat": 4
 },
 "nbformat": 4,
 "nbformat_minor": 2
}
